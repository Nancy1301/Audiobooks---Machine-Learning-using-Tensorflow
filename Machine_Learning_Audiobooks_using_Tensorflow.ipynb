{
  "nbformat": 4,
  "nbformat_minor": 0,
  "metadata": {
    "colab": {
      "name": "Machine Learning -Audiobooks using Tensorflow.ipynb",
      "provenance": [],
      "collapsed_sections": [],
      "toc_visible": true
    },
    "kernelspec": {
      "name": "python3",
      "display_name": "Python 3"
    }
  },
  "cells": [
    {
      "cell_type": "markdown",
      "metadata": {
        "id": "cLuUu-FIoDVf"
      },
      "source": [
        "# Audiobooks business case\r\n",
        "\r\n",
        "**Problem**\r\n",
        "\r\n",
        "You are given data from an Audiobook App. Logically, it relates to the audio versions of books ONLY. Each customer in the database has made a purchase at least once, that's why he/she is in the database. We want to create a machine learning algorithm based on our available data that can predict if a customer will buy again from the Audiobook company.\r\n",
        "\r\n",
        "The main idea is that if a customer has a low probability of coming back, there is no reason to spend any money on advertising to him/her. If we can focus our efforts SOLELY on customers that are likely to convert again, we can make great savings. Moreover, this model can identify the most important metrics for a customer to come back again. Identifying new customers creates value and growth opportunities.\r\n",
        "\r\n",
        "You have a .csv summarizing the data. There are several variables: Customer ID, ), Book length overall (sum of the minute length of all purchases), Book length avg (average length in minutes of all purchases), Price paid_overall (sum of all purchases) ,Price Paid avg (average of all purchases), Review (a Boolean variable whether the customer left a review), Review out of 10 (if the customer left a review, his/her review out of 10, Total minutes listened, Completion (from 0 to 1), Support requests (number of support requests; everything from forgotten password to assistance for using the App), and Last visited minus purchase date (in days).\r\n",
        "\r\n",
        "These are the inputs (excluding customer ID, as it is completely arbitrary. It's more like a name, than a number).\r\n",
        "\r\n",
        "The targets are a Boolean variable (0 or 1). We are taking a period of 2 years in our inputs, and the next 6 months as targets. So, in fact, we are predicting if: based on the last 2 years of activity and engagement, a customer will convert in the next 6 months. 6 months sounds like a reasonable time. If they don't convert after 6 months, chances are they've gone to a competitor or didn't like the Audiobook way of digesting information.\r\n",
        "\r\n",
        "The task is simple: create a machine learning algorithm, which is able to predict if a customer will buy again.\r\n",
        "\r\n",
        "This is a classification problem with two classes: won't buy and will buy, represented by 0s and 1s."
      ]
    },
    {
      "cell_type": "markdown",
      "metadata": {
        "id": "x2zgRdnUoTUQ"
      },
      "source": [
        "# Preprocess the data. Balance the dataset. Create 3 datasets: training, validation, and test. Save the newly created sets in a tensor friendly format (e.g. *.npz)\r\n",
        "\r\n",
        "Since we are dealing with real life data, we will need to preprocess it a bit. This is the relevant code, which is not that hard, but is crucial to creating a good model.\r\n",
        "\r\n",
        "In any case, this should do the trick for most datasets organized in the way: many inputs, and then 1 cell containing the targets (supersized learning datasets). Keep in mind that a specific problem may require additional preprocessing.\r\n",
        "\r\n",
        "Note that we have removed the header row, which contains the names of the categories because we simply want the data."
      ]
    },
    {
      "cell_type": "code",
      "metadata": {
        "id": "dVhRZT5EPuF6"
      },
      "source": [
        "# Extract the data from the csv\r\n",
        "import numpy as np\r\n",
        "\r\n",
        "# We will use the sklearn preprocessing library, as it will be easier to standardize the data.\r\n",
        "from sklearn import preprocessing\r\n",
        "\r\n",
        "# Load the data\r\n",
        "raw_csv_data = np.loadtxt('Audiobooks_data.csv',delimiter=',')\r\n",
        "\r\n",
        "# The inputs are all columns in the csv, except for the first one [:,0]\r\n",
        "# (which is just the arbitrary customer IDs that bear no useful information),\r\n",
        "# and the last one [:,-1] (which is our targets)\r\n",
        "\r\n",
        "unscaled_inputs_all = raw_csv_data[:,1:-1]\r\n",
        "\r\n",
        "# The targets are in the last column. That's how datasets are conventionally organized.\r\n",
        "targets_all = raw_csv_data[:,-1]\r\n"
      ],
      "execution_count": 1,
      "outputs": []
    },
    {
      "cell_type": "code",
      "metadata": {
        "id": "p99QtKG-savt",
        "colab": {
          "base_uri": "https://localhost:8080/"
        },
        "outputId": "40a1c5f5-ba40-4972-96aa-619a615b6ad0"
      },
      "source": [
        "# Balance the dataset\r\n",
        "# Count how many targets are 1 (meaning that the customer did convert)\r\n",
        "num_one_targets = int(np.sum(targets_all))\r\n",
        "\r\n",
        "# Set a counter for targets that are 0 (meaning that the customer did not convert)\r\n",
        "zero_targets_counter = 0\r\n",
        "\r\n",
        "# We want to create a \"balanced\" dataset, so we will have to remove some input/target pairs.\r\n",
        "# Declare a variable that will do that:\r\n",
        "indices_to_remove = []\r\n",
        "\r\n",
        "# Count the number of targets that are 0. \r\n",
        "# Once there are as many 0s as 1s, mark entries where the target is 0.\r\n",
        "for i in range(targets_all.shape[0]):\r\n",
        "    if targets_all[i] == 0:\r\n",
        "        zero_targets_counter += 1\r\n",
        "        if zero_targets_counter > num_one_targets:\r\n",
        "            indices_to_remove.append(i)\r\n",
        "\r\n",
        "# Create two new variables, one that will contain the inputs, and one that will contain the targets.\r\n",
        "# We delete all indices that we marked \"to remove\" in the loop above.\r\n",
        "unscaled_inputs_equal_priors = np.delete(unscaled_inputs_all, indices_to_remove, axis=0)\r\n",
        "targets_equal_priors = np.delete(targets_all, indices_to_remove, axis=0)\r\n",
        "print(num_one_targets)\r\n",
        "print(zero_targets_counter)\r\n",
        "print(unscaled_inputs_equal_priors)"
      ],
      "execution_count": 2,
      "outputs": [
        {
          "output_type": "stream",
          "text": [
            "2237\n",
            "11847\n",
            "[[1620.   1620.     19.73 ... 1603.8     5.     92.  ]\n",
            " [2160.   2160.      5.33 ...    0.      0.      0.  ]\n",
            " [2160.   2160.      5.33 ...    0.      0.    388.  ]\n",
            " ...\n",
            " [2160.   2160.      5.33 ...    0.      0.      6.  ]\n",
            " [1674.   3348.      7.99 ...    0.      0.      0.  ]\n",
            " [1674.   3348.      5.33 ...    0.      0.      0.  ]]\n"
          ],
          "name": "stdout"
        }
      ]
    },
    {
      "cell_type": "code",
      "metadata": {
        "id": "vNbiYNHstGej",
        "colab": {
          "base_uri": "https://localhost:8080/"
        },
        "outputId": "3ca7a1c0-a76d-44aa-c6e5-13b492e0e414"
      },
      "source": [
        "# Standardize the inputs\r\n",
        "# That's the only place we use sklearn functionality. We will take advantage of its preprocessing capabilities\r\n",
        "# It's a simple line of code, which standardizes the inputs, as we explained in one of the lectures.\r\n",
        "# At the end of the business case, you can try to run the algorithm WITHOUT this line of code. \r\n",
        "# The result will be interesting.\r\n",
        "scaled_inputs = preprocessing.scale(unscaled_inputs_equal_priors)\r\n",
        "print(scaled_inputs)"
      ],
      "execution_count": 3,
      "outputs": [
        {
          "output_type": "stream",
          "text": [
            "[[ 0.21053387 -0.18888517  1.97823887 ...  4.80955413 11.83828419\n",
            "   0.09415043]\n",
            " [ 1.27894497  0.41646744 -0.39082475 ... -0.41569922 -0.20183481\n",
            "  -0.80255852]\n",
            " [ 1.27894497  0.41646744 -0.39082475 ... -0.41569922 -0.20183481\n",
            "   2.979214  ]\n",
            " ...\n",
            " [ 1.27894497  0.41646744 -0.39082475 ... -0.41569922 -0.20183481\n",
            "  -0.7440775 ]\n",
            " [ 0.31737498  1.7482432   0.04679395 ... -0.41569922 -0.20183481\n",
            "  -0.80255852]\n",
            " [ 0.31737498  1.7482432  -0.39082475 ... -0.41569922 -0.20183481\n",
            "  -0.80255852]]\n"
          ],
          "name": "stdout"
        }
      ]
    },
    {
      "cell_type": "code",
      "metadata": {
        "id": "jgOqz5PUkNDI"
      },
      "source": [
        "# Shuffle the data\r\n",
        "# When the data was collected it was actually arranged by date\r\n",
        "# Shuffle the indices of the data, so the data is not arranged in any way when we feed it.\r\n",
        "# Since we will be batching, we want the data to be as randomly spread out as possible\r\n",
        "shuffled_indices = np.arange(scaled_inputs.shape[0])\r\n",
        "np.random.shuffle(shuffled_indices)\r\n",
        "\r\n",
        "# Use the shuffled indices to shuffle the inputs and targets.\r\n",
        "shuffled_inputs = scaled_inputs[shuffled_indices]\r\n",
        "shuffled_targets = targets_equal_priors[shuffled_indices]"
      ],
      "execution_count": 4,
      "outputs": []
    },
    {
      "cell_type": "code",
      "metadata": {
        "id": "GshrmBe8kfeg",
        "colab": {
          "base_uri": "https://localhost:8080/"
        },
        "outputId": "709c6e1a-2466-4191-b467-632f855e88ef"
      },
      "source": [
        "# Split the dataset into train, validation, and test\r\n",
        "# Count the total number of samples\r\n",
        "samples_count = shuffled_inputs.shape[0]\r\n",
        "\r\n",
        "# Count the samples in each subset, assuming we want 80-10-10 distribution of training, validation, and test.\r\n",
        "# Naturally, the numbers are integers.\r\n",
        "train_samples_count = int(0.8 * samples_count)\r\n",
        "validation_samples_count = int(0.1 * samples_count)\r\n",
        "\r\n",
        "# The 'test' dataset contains all remaining data.\r\n",
        "test_samples_count = samples_count - train_samples_count - validation_samples_count\r\n",
        "\r\n",
        "# Create variables that record the inputs and targets for training\r\n",
        "# In our shuffled dataset, they are the first \"train_samples_count\" observations\r\n",
        "train_inputs = shuffled_inputs[:train_samples_count]\r\n",
        "train_targets = shuffled_targets[:train_samples_count]\r\n",
        "\r\n",
        "# Create variables that record the inputs and targets for validation.\r\n",
        "# They are the next \"validation_samples_count\" observations, folllowing the \"train_samples_count\" we already assigned\r\n",
        "validation_inputs = shuffled_inputs[train_samples_count:train_samples_count+validation_samples_count]\r\n",
        "validation_targets = shuffled_targets[train_samples_count:train_samples_count+validation_samples_count]\r\n",
        "\r\n",
        "# Create variables that record the inputs and targets for test.\r\n",
        "# They are everything that is remaining.\r\n",
        "test_inputs = shuffled_inputs[train_samples_count+validation_samples_count:]\r\n",
        "test_targets = shuffled_targets[train_samples_count+validation_samples_count:]\r\n",
        "\r\n",
        "# We balanced our dataset to be 50-50 (for targets 0 and 1), but the training, validation, and test were \r\n",
        "# taken from a shuffled dataset. Check if they are balanced, too. Note that each time you rerun this code, \r\n",
        "# you will get different values, as each time they are shuffled randomly.\r\n",
        "# Normally you preprocess ONCE, so you need not rerun this code once it is done.\r\n",
        "# If you rerun this whole sheet, the npzs will be overwritten with your newly preprocessed data.\r\n",
        "\r\n",
        "# Print the number of targets that are 1s, the total number of samples, and the proportion for training, validation, and test.\r\n",
        "print(np.sum(train_targets), train_samples_count, np.sum(train_targets) / train_samples_count)\r\n",
        "print(np.sum(validation_targets), validation_samples_count, np.sum(validation_targets) / validation_samples_count)\r\n",
        "print(np.sum(test_targets), test_samples_count, np.sum(test_targets) / test_samples_count)"
      ],
      "execution_count": 5,
      "outputs": [
        {
          "output_type": "stream",
          "text": [
            "1779.0 3579 0.49706621961441744\n",
            "245.0 447 0.5480984340044742\n",
            "213.0 448 0.47544642857142855\n"
          ],
          "name": "stdout"
        }
      ]
    },
    {
      "cell_type": "code",
      "metadata": {
        "id": "HiCyDcowk63m"
      },
      "source": [
        "# Save the three datasets in *.npz\r\n",
        "np.savez('Audiobooks_data_train', inputs=train_inputs, targets=train_targets)\r\n",
        "np.savez('Audiobooks_data_validation', inputs=validation_inputs, targets=validation_targets)\r\n",
        "np.savez('Audiobooks_data_test', inputs=test_inputs, targets=test_targets)"
      ],
      "execution_count": 6,
      "outputs": []
    },
    {
      "cell_type": "markdown",
      "metadata": {
        "id": "rkagM3EKlV-x"
      },
      "source": [
        "# Creating the Machine Learning Algo\r\n"
      ]
    },
    {
      "cell_type": "code",
      "metadata": {
        "id": "2iLOsAe5lDh7"
      },
      "source": [
        "import numpy as np\r\n",
        "import tensorflow as tf\r\n"
      ],
      "execution_count": 7,
      "outputs": []
    },
    {
      "cell_type": "code",
      "metadata": {
        "id": "Ue49XUDElhwi"
      },
      "source": [
        "# let's create a temporary variable npz, where we will store each of the three Audiobooks datasets\r\n",
        "npz = np.load('Audiobooks_data_train.npz')\r\n",
        "\r\n",
        "# we extract the inputs using the keyword under which we saved them\r\n",
        "# to ensure that they are all floats, let's also take care of that\r\n",
        "train_inputs = npz['inputs'].astype(np.float)\r\n",
        "# targets must be int because of sparse_categorical_crossentropy (we want to be able to smoothly one-hot encode them)\r\n",
        "train_targets = npz['targets'].astype(np.int)\r\n",
        "\r\n",
        "# we load the validation data in the temporary variable\r\n",
        "npz = np.load('Audiobooks_data_validation.npz')\r\n",
        "# we can load the inputs and the targets in the same line\r\n",
        "validation_inputs, validation_targets = npz['inputs'].astype(np.float), npz['targets'].astype(np.int)\r\n",
        "\r\n",
        "# we load the test data in the temporary variable\r\n",
        "npz = np.load('Audiobooks_data_test.npz')\r\n",
        "# we create 2 variables that will contain the test inputs and the test targets\r\n",
        "test_inputs, test_targets = npz['inputs'].astype(np.float), npz['targets'].astype(np.int)"
      ],
      "execution_count": 8,
      "outputs": []
    },
    {
      "cell_type": "markdown",
      "metadata": {
        "id": "6P-7FL_9nC5N"
      },
      "source": [
        "### Model\n",
        "Outline, optimizers, loss, early stopping and training"
      ]
    },
    {
      "cell_type": "code",
      "metadata": {
        "id": "zfMNRgzmmUwK",
        "colab": {
          "base_uri": "https://localhost:8080/"
        },
        "outputId": "d74fbf93-3cab-432e-8ee5-f5759f614d63"
      },
      "source": [
        "# Set the input and output sizes\r\n",
        "input_size = 10\r\n",
        "output_size = 2\r\n",
        "# Use same hidden layer size for both hidden layers. Not a necessity.\r\n",
        "hidden_layer_size = 50\r\n",
        "    \r\n",
        "# define how the model will look like\r\n",
        "model = tf.keras.Sequential([\r\n",
        "    # tf.keras.layers.Dense is basically implementing: output = activation(dot(input, weight) + bias)\r\n",
        "    # it takes several arguments, but the most important ones for us are the hidden_layer_size and the activation function\r\n",
        "    tf.keras.layers.Dense(hidden_layer_size, activation='relu'), # 1st hidden layer\r\n",
        "    tf.keras.layers.Dense(hidden_layer_size, activation='relu'), # 2nd hidden layer\r\n",
        "    # the final layer is no different, we just make sure to activate it with softmax\r\n",
        "    tf.keras.layers.Dense(output_size, activation='softmax') # output layer\r\n",
        "])\r\n",
        "\r\n",
        "\r\n",
        "### Choose the optimizer and the loss function\r\n",
        "\r\n",
        "# we define the optimizer we'd like to use, \r\n",
        "# the loss function, \r\n",
        "# and the metrics we are interested in obtaining at each iteration\r\n",
        "model.compile(optimizer='adam', loss='sparse_categorical_crossentropy', metrics=['accuracy'])\r\n",
        "\r\n",
        "### Training\r\n",
        "# That's where we train the model we have built.\r\n",
        "\r\n",
        "# set the batch size\r\n",
        "batch_size = 200\r\n",
        "\r\n",
        "# set a maximum number of training epochs\r\n",
        "max_epochs = 200\r\n",
        "early_stopping = tf.keras.callbacks.EarlyStopping(patience = 2)\r\n",
        "\r\n",
        "# fit the model\r\n",
        "# note that this time the train, validation and test data are not iterable\r\n",
        "model.fit(train_inputs, # train inputs\r\n",
        "          train_targets, # train targets\r\n",
        "          batch_size=batch_size, # batch size\r\n",
        "          epochs=max_epochs, # epochs that we will train for (assuming early stopping doesn't kick in)\r\n",
        "          callbacks = [early_stopping],\r\n",
        "          validation_data=(validation_inputs, validation_targets), # validation data\r\n",
        "          verbose = 2 # making sure we get enough information about the training process\r\n",
        "          )  "
      ],
      "execution_count": 18,
      "outputs": [
        {
          "output_type": "stream",
          "text": [
            "Epoch 1/200\n",
            "18/18 - 1s - loss: 0.6624 - accuracy: 0.5971 - val_loss: 0.5852 - val_accuracy: 0.7383\n",
            "Epoch 2/200\n",
            "18/18 - 0s - loss: 0.5565 - accuracy: 0.7477 - val_loss: 0.4957 - val_accuracy: 0.8054\n",
            "Epoch 3/200\n",
            "18/18 - 0s - loss: 0.4900 - accuracy: 0.7751 - val_loss: 0.4398 - val_accuracy: 0.7919\n",
            "Epoch 4/200\n",
            "18/18 - 0s - loss: 0.4447 - accuracy: 0.7837 - val_loss: 0.4026 - val_accuracy: 0.7830\n",
            "Epoch 5/200\n",
            "18/18 - 0s - loss: 0.4151 - accuracy: 0.7815 - val_loss: 0.3782 - val_accuracy: 0.8009\n",
            "Epoch 6/200\n",
            "18/18 - 0s - loss: 0.3954 - accuracy: 0.7972 - val_loss: 0.3617 - val_accuracy: 0.7964\n",
            "Epoch 7/200\n",
            "18/18 - 0s - loss: 0.3816 - accuracy: 0.8027 - val_loss: 0.3555 - val_accuracy: 0.7964\n",
            "Epoch 8/200\n",
            "18/18 - 0s - loss: 0.3721 - accuracy: 0.7972 - val_loss: 0.3533 - val_accuracy: 0.7964\n",
            "Epoch 9/200\n",
            "18/18 - 0s - loss: 0.3663 - accuracy: 0.8047 - val_loss: 0.3510 - val_accuracy: 0.7942\n",
            "Epoch 10/200\n",
            "18/18 - 0s - loss: 0.3601 - accuracy: 0.8044 - val_loss: 0.3405 - val_accuracy: 0.8009\n",
            "Epoch 11/200\n",
            "18/18 - 0s - loss: 0.3556 - accuracy: 0.8111 - val_loss: 0.3380 - val_accuracy: 0.7987\n",
            "Epoch 12/200\n",
            "18/18 - 0s - loss: 0.3546 - accuracy: 0.8114 - val_loss: 0.3307 - val_accuracy: 0.8143\n",
            "Epoch 13/200\n",
            "18/18 - 0s - loss: 0.3491 - accuracy: 0.8114 - val_loss: 0.3314 - val_accuracy: 0.8009\n",
            "Epoch 14/200\n",
            "18/18 - 0s - loss: 0.3484 - accuracy: 0.8122 - val_loss: 0.3324 - val_accuracy: 0.8009\n"
          ],
          "name": "stdout"
        },
        {
          "output_type": "execute_result",
          "data": {
            "text/plain": [
              "<tensorflow.python.keras.callbacks.History at 0x7fafe80a7710>"
            ]
          },
          "metadata": {
            "tags": []
          },
          "execution_count": 18
        }
      ]
    },
    {
      "cell_type": "markdown",
      "metadata": {
        "id": "UW1wHzu8JkJy"
      },
      "source": [
        "## Test the model\n",
        "\n",
        "As we discussed in the lectures, after training on the training data and validating on the validation data, we test the final prediction power of our model by running it on the test dataset that the algorithm has NEVER seen before.\n",
        "\n",
        "It is very important to realize that fiddling with the hyperparameters overfits the validation dataset. \n",
        "\n",
        "The test is the absolute final instance. You should not test before you are completely done with adjusting your model.\n",
        "\n",
        "If you adjust your model after testing, you will start overfitting the test dataset, which will defeat its purpose."
      ]
    },
    {
      "cell_type": "code",
      "metadata": {
        "id": "G42tJYjFJkJz",
        "colab": {
          "base_uri": "https://localhost:8080/"
        },
        "outputId": "932fb2e4-8a11-446c-d819-14906f889cf8"
      },
      "source": [
        "test_loss, test_accuracy = model.evaluate(test_inputs, test_targets)"
      ],
      "execution_count": 19,
      "outputs": [
        {
          "output_type": "stream",
          "text": [
            "14/14 [==============================] - 0s 2ms/step - loss: 0.3603 - accuracy: 0.8170\n"
          ],
          "name": "stdout"
        }
      ]
    },
    {
      "cell_type": "code",
      "metadata": {
        "id": "_ueYDABaJkJ0",
        "colab": {
          "base_uri": "https://localhost:8080/"
        },
        "outputId": "7b508eb2-a619-4d5f-cb47-152728409438"
      },
      "source": [
        "print('\\nTest loss: {0:.2f}. Test accuracy: {1:.2f}%'.format(test_loss, test_accuracy*100.))"
      ],
      "execution_count": 20,
      "outputs": [
        {
          "output_type": "stream",
          "text": [
            "\n",
            "Test loss: 0.36. Test accuracy: 81.70%\n"
          ],
          "name": "stdout"
        }
      ]
    },
    {
      "cell_type": "markdown",
      "metadata": {
        "id": "NKj9H2jcJkJ2"
      },
      "source": [
        "Using the initial model and hyperparameters given in this notebook, the final test accuracy should be roughly around 81%.\n",
        "\n",
        "Note that each time the code is rerun, we get a different accuracy because each training is different. \n",
        "\n",
        "We have intentionally reached a suboptimal solution, so you can have space to build on it!"
      ]
    },
    {
      "cell_type": "code",
      "metadata": {
        "id": "lss2VffKK9mB"
      },
      "source": [
        ""
      ],
      "execution_count": 20,
      "outputs": []
    }
  ]
}